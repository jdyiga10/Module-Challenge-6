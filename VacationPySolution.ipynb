{
 "cells": [
  {
   "cell_type": "markdown",
   "metadata": {},
   "source": [
    "# VacationPy\n",
    "---\n",
    "\n",
    "## Starter Code to Import Libraries and Load the Weather and Coordinates Data"
   ]
  },
  {
   "cell_type": "code",
   "execution_count": 1,
   "metadata": {},
   "outputs": [
    {
     "data": {
      "application/javascript": "(function(root) {\n  function now() {\n    return new Date();\n  }\n\n  var force = true;\n  var py_version = '3.2.2'.replace('rc', '-rc.').replace('.dev', '-dev.');\n  var is_dev = py_version.indexOf(\"+\") !== -1 || py_version.indexOf(\"-\") !== -1;\n  var reloading = false;\n  var Bokeh = root.Bokeh;\n  var bokeh_loaded = Bokeh != null && (Bokeh.version === py_version || (Bokeh.versions !== undefined && Bokeh.versions.has(py_version)));\n\n  if (typeof (root._bokeh_timeout) === \"undefined\" || force) {\n    root._bokeh_timeout = Date.now() + 5000;\n    root._bokeh_failed_load = false;\n  }\n\n  function run_callbacks() {\n    try {\n      root._bokeh_onload_callbacks.forEach(function(callback) {\n        if (callback != null)\n          callback();\n      });\n    } finally {\n      delete root._bokeh_onload_callbacks;\n    }\n    console.debug(\"Bokeh: all callbacks have finished\");\n  }\n\n  function load_libs(css_urls, js_urls, js_modules, js_exports, callback) {\n    if (css_urls == null) css_urls = [];\n    if (js_urls == null) js_urls = [];\n    if (js_modules == null) js_modules = [];\n    if (js_exports == null) js_exports = {};\n\n    root._bokeh_onload_callbacks.push(callback);\n\n    if (root._bokeh_is_loading > 0) {\n      console.debug(\"Bokeh: BokehJS is being loaded, scheduling callback at\", now());\n      return null;\n    }\n    if (js_urls.length === 0 && js_modules.length === 0 && Object.keys(js_exports).length === 0) {\n      run_callbacks();\n      return null;\n    }\n    if (!reloading) {\n      console.debug(\"Bokeh: BokehJS not loaded, scheduling load and callback at\", now());\n    }\n\n    function on_load() {\n      root._bokeh_is_loading--;\n      if (root._bokeh_is_loading === 0) {\n        console.debug(\"Bokeh: all BokehJS libraries/stylesheets loaded\");\n        run_callbacks()\n      }\n    }\n    window._bokeh_on_load = on_load\n\n    function on_error() {\n      console.error(\"failed to load \" + url);\n    }\n\n    var skip = [];\n    if (window.requirejs) {\n      window.requirejs.config({'packages': {}, 'paths': {'jspanel': 'https://cdn.jsdelivr.net/npm/jspanel4@4.12.0/dist/jspanel', 'jspanel-modal': 'https://cdn.jsdelivr.net/npm/jspanel4@4.12.0/dist/extensions/modal/jspanel.modal', 'jspanel-tooltip': 'https://cdn.jsdelivr.net/npm/jspanel4@4.12.0/dist/extensions/tooltip/jspanel.tooltip', 'jspanel-hint': 'https://cdn.jsdelivr.net/npm/jspanel4@4.12.0/dist/extensions/hint/jspanel.hint', 'jspanel-layout': 'https://cdn.jsdelivr.net/npm/jspanel4@4.12.0/dist/extensions/layout/jspanel.layout', 'jspanel-contextmenu': 'https://cdn.jsdelivr.net/npm/jspanel4@4.12.0/dist/extensions/contextmenu/jspanel.contextmenu', 'jspanel-dock': 'https://cdn.jsdelivr.net/npm/jspanel4@4.12.0/dist/extensions/dock/jspanel.dock', 'gridstack': 'https://cdn.jsdelivr.net/npm/gridstack@7.2.3/dist/gridstack-all', 'notyf': 'https://cdn.jsdelivr.net/npm/notyf@3/notyf.min'}, 'shim': {'jspanel': {'exports': 'jsPanel'}, 'gridstack': {'exports': 'GridStack'}}});\n      require([\"jspanel\"], function(jsPanel) {\n\twindow.jsPanel = jsPanel\n\ton_load()\n      })\n      require([\"jspanel-modal\"], function() {\n\ton_load()\n      })\n      require([\"jspanel-tooltip\"], function() {\n\ton_load()\n      })\n      require([\"jspanel-hint\"], function() {\n\ton_load()\n      })\n      require([\"jspanel-layout\"], function() {\n\ton_load()\n      })\n      require([\"jspanel-contextmenu\"], function() {\n\ton_load()\n      })\n      require([\"jspanel-dock\"], function() {\n\ton_load()\n      })\n      require([\"gridstack\"], function(GridStack) {\n\twindow.GridStack = GridStack\n\ton_load()\n      })\n      require([\"notyf\"], function() {\n\ton_load()\n      })\n      root._bokeh_is_loading = css_urls.length + 9;\n    } else {\n      root._bokeh_is_loading = css_urls.length + js_urls.length + js_modules.length + Object.keys(js_exports).length;\n    }\n\n    var existing_stylesheets = []\n    var links = document.getElementsByTagName('link')\n    for (var i = 0; i < links.length; i++) {\n      var link = links[i]\n      if (link.href != null) {\n\texisting_stylesheets.push(link.href)\n      }\n    }\n    for (var i = 0; i < css_urls.length; i++) {\n      var url = css_urls[i];\n      if (existing_stylesheets.indexOf(url) !== -1) {\n\ton_load()\n\tcontinue;\n      }\n      const element = document.createElement(\"link\");\n      element.onload = on_load;\n      element.onerror = on_error;\n      element.rel = \"stylesheet\";\n      element.type = \"text/css\";\n      element.href = url;\n      console.debug(\"Bokeh: injecting link tag for BokehJS stylesheet: \", url);\n      document.body.appendChild(element);\n    }    if (((window['jsPanel'] !== undefined) && (!(window['jsPanel'] instanceof HTMLElement))) || window.requirejs) {\n      var urls = ['https://cdn.holoviz.org/panel/1.2.1/dist/bundled/floatpanel/jspanel4@4.12.0/dist/jspanel.js', 'https://cdn.holoviz.org/panel/1.2.1/dist/bundled/floatpanel/jspanel4@4.12.0/dist/extensions/modal/jspanel.modal.js', 'https://cdn.holoviz.org/panel/1.2.1/dist/bundled/floatpanel/jspanel4@4.12.0/dist/extensions/tooltip/jspanel.tooltip.js', 'https://cdn.holoviz.org/panel/1.2.1/dist/bundled/floatpanel/jspanel4@4.12.0/dist/extensions/hint/jspanel.hint.js', 'https://cdn.holoviz.org/panel/1.2.1/dist/bundled/floatpanel/jspanel4@4.12.0/dist/extensions/layout/jspanel.layout.js', 'https://cdn.holoviz.org/panel/1.2.1/dist/bundled/floatpanel/jspanel4@4.12.0/dist/extensions/contextmenu/jspanel.contextmenu.js', 'https://cdn.holoviz.org/panel/1.2.1/dist/bundled/floatpanel/jspanel4@4.12.0/dist/extensions/dock/jspanel.dock.js'];\n      for (var i = 0; i < urls.length; i++) {\n        skip.push(urls[i])\n      }\n    }    if (((window['GridStack'] !== undefined) && (!(window['GridStack'] instanceof HTMLElement))) || window.requirejs) {\n      var urls = ['https://cdn.holoviz.org/panel/1.2.1/dist/bundled/gridstack/gridstack@7.2.3/dist/gridstack-all.js'];\n      for (var i = 0; i < urls.length; i++) {\n        skip.push(urls[i])\n      }\n    }    if (((window['Notyf'] !== undefined) && (!(window['Notyf'] instanceof HTMLElement))) || window.requirejs) {\n      var urls = ['https://cdn.holoviz.org/panel/1.2.1/dist/bundled/notificationarea/notyf@3/notyf.min.js'];\n      for (var i = 0; i < urls.length; i++) {\n        skip.push(urls[i])\n      }\n    }    var existing_scripts = []\n    var scripts = document.getElementsByTagName('script')\n    for (var i = 0; i < scripts.length; i++) {\n      var script = scripts[i]\n      if (script.src != null) {\n\texisting_scripts.push(script.src)\n      }\n    }\n    for (var i = 0; i < js_urls.length; i++) {\n      var url = js_urls[i];\n      if (skip.indexOf(url) !== -1 || existing_scripts.indexOf(url) !== -1) {\n\tif (!window.requirejs) {\n\t  on_load();\n\t}\n\tcontinue;\n      }\n      var element = document.createElement('script');\n      element.onload = on_load;\n      element.onerror = on_error;\n      element.async = false;\n      element.src = url;\n      console.debug(\"Bokeh: injecting script tag for BokehJS library: \", url);\n      document.head.appendChild(element);\n    }\n    for (var i = 0; i < js_modules.length; i++) {\n      var url = js_modules[i];\n      if (skip.indexOf(url) !== -1 || existing_scripts.indexOf(url) !== -1) {\n\tif (!window.requirejs) {\n\t  on_load();\n\t}\n\tcontinue;\n      }\n      var element = document.createElement('script');\n      element.onload = on_load;\n      element.onerror = on_error;\n      element.async = false;\n      element.src = url;\n      element.type = \"module\";\n      console.debug(\"Bokeh: injecting script tag for BokehJS library: \", url);\n      document.head.appendChild(element);\n    }\n    for (const name in js_exports) {\n      var url = js_exports[name];\n      if (skip.indexOf(url) >= 0 || root[name] != null) {\n\tif (!window.requirejs) {\n\t  on_load();\n\t}\n\tcontinue;\n      }\n      var element = document.createElement('script');\n      element.onerror = on_error;\n      element.async = false;\n      element.type = \"module\";\n      console.debug(\"Bokeh: injecting script tag for BokehJS library: \", url);\n      element.textContent = `\n      import ${name} from \"${url}\"\n      window.${name} = ${name}\n      window._bokeh_on_load()\n      `\n      document.head.appendChild(element);\n    }\n    if (!js_urls.length && !js_modules.length) {\n      on_load()\n    }\n  };\n\n  function inject_raw_css(css) {\n    const element = document.createElement(\"style\");\n    element.appendChild(document.createTextNode(css));\n    document.body.appendChild(element);\n  }\n\n  var js_urls = [\"https://cdn.bokeh.org/bokeh/release/bokeh-3.2.2.min.js\", \"https://cdn.bokeh.org/bokeh/release/bokeh-gl-3.2.2.min.js\", \"https://cdn.bokeh.org/bokeh/release/bokeh-widgets-3.2.2.min.js\", \"https://cdn.bokeh.org/bokeh/release/bokeh-tables-3.2.2.min.js\", \"https://cdn.holoviz.org/panel/1.2.1/dist/panel.min.js\"];\n  var js_modules = [];\n  var js_exports = {};\n  var css_urls = [];\n  var inline_js = [    function(Bokeh) {\n      Bokeh.set_log_level(\"info\");\n    },\nfunction(Bokeh) {} // ensure no trailing comma for IE\n  ];\n\n  function run_inline_js() {\n    if ((root.Bokeh !== undefined) || (force === true)) {\n      for (var i = 0; i < inline_js.length; i++) {\n        inline_js[i].call(root, root.Bokeh);\n      }\n      // Cache old bokeh versions\n      if (Bokeh != undefined && !reloading) {\n\tvar NewBokeh = root.Bokeh;\n\tif (Bokeh.versions === undefined) {\n\t  Bokeh.versions = new Map();\n\t}\n\tif (NewBokeh.version !== Bokeh.version) {\n\t  Bokeh.versions.set(NewBokeh.version, NewBokeh)\n\t}\n\troot.Bokeh = Bokeh;\n      }} else if (Date.now() < root._bokeh_timeout) {\n      setTimeout(run_inline_js, 100);\n    } else if (!root._bokeh_failed_load) {\n      console.log(\"Bokeh: BokehJS failed to load within specified timeout.\");\n      root._bokeh_failed_load = true;\n    }\n    root._bokeh_is_initializing = false\n  }\n\n  function load_or_wait() {\n    // Implement a backoff loop that tries to ensure we do not load multiple\n    // versions of Bokeh and its dependencies at the same time.\n    // In recent versions we use the root._bokeh_is_initializing flag\n    // to determine whether there is an ongoing attempt to initialize\n    // bokeh, however for backward compatibility we also try to ensure\n    // that we do not start loading a newer (Panel>=1.0 and Bokeh>3) version\n    // before older versions are fully initialized.\n    if (root._bokeh_is_initializing && Date.now() > root._bokeh_timeout) {\n      root._bokeh_is_initializing = false;\n      root._bokeh_onload_callbacks = undefined;\n      console.log(\"Bokeh: BokehJS was loaded multiple times but one version failed to initialize.\");\n      load_or_wait();\n    } else if (root._bokeh_is_initializing || (typeof root._bokeh_is_initializing === \"undefined\" && root._bokeh_onload_callbacks !== undefined)) {\n      setTimeout(load_or_wait, 100);\n    } else {\n      Bokeh = root.Bokeh;\n      bokeh_loaded = Bokeh != null && (Bokeh.version === py_version || (Bokeh.versions !== undefined && Bokeh.versions.has(py_version)));\n      root._bokeh_is_initializing = true\n      root._bokeh_onload_callbacks = []\n      if (!reloading && (!bokeh_loaded || is_dev)) {\n\troot.Bokeh = undefined;\n      }\n      load_libs(css_urls, js_urls, js_modules, js_exports, function() {\n\tconsole.debug(\"Bokeh: BokehJS plotting callback run at\", now());\n\trun_inline_js();\n      });\n    }\n  }\n  // Give older versions of the autoload script a head-start to ensure\n  // they initialize before we start loading newer version.\n  setTimeout(load_or_wait, 100)\n}(window));",
      "application/vnd.holoviews_load.v0+json": ""
     },
     "metadata": {},
     "output_type": "display_data"
    },
    {
     "data": {
      "application/javascript": "\nif ((window.PyViz === undefined) || (window.PyViz instanceof HTMLElement)) {\n  window.PyViz = {comms: {}, comm_status:{}, kernels:{}, receivers: {}, plot_index: []}\n}\n\n\n    function JupyterCommManager() {\n    }\n\n    JupyterCommManager.prototype.register_target = function(plot_id, comm_id, msg_handler) {\n      if (window.comm_manager || ((window.Jupyter !== undefined) && (Jupyter.notebook.kernel != null))) {\n        var comm_manager = window.comm_manager || Jupyter.notebook.kernel.comm_manager;\n        comm_manager.register_target(comm_id, function(comm) {\n          comm.on_msg(msg_handler);\n        });\n      } else if ((plot_id in window.PyViz.kernels) && (window.PyViz.kernels[plot_id])) {\n        window.PyViz.kernels[plot_id].registerCommTarget(comm_id, function(comm) {\n          comm.onMsg = msg_handler;\n        });\n      } else if (typeof google != 'undefined' && google.colab.kernel != null) {\n        google.colab.kernel.comms.registerTarget(comm_id, (comm) => {\n          var messages = comm.messages[Symbol.asyncIterator]();\n          function processIteratorResult(result) {\n            var message = result.value;\n            console.log(message)\n            var content = {data: message.data, comm_id};\n            var buffers = []\n            for (var buffer of message.buffers || []) {\n              buffers.push(new DataView(buffer))\n            }\n            var metadata = message.metadata || {};\n            var msg = {content, buffers, metadata}\n            msg_handler(msg);\n            return messages.next().then(processIteratorResult);\n          }\n          return messages.next().then(processIteratorResult);\n        })\n      }\n    }\n\n    JupyterCommManager.prototype.get_client_comm = function(plot_id, comm_id, msg_handler) {\n      if (comm_id in window.PyViz.comms) {\n        return window.PyViz.comms[comm_id];\n      } else if (window.comm_manager || ((window.Jupyter !== undefined) && (Jupyter.notebook.kernel != null))) {\n        var comm_manager = window.comm_manager || Jupyter.notebook.kernel.comm_manager;\n        var comm = comm_manager.new_comm(comm_id, {}, {}, {}, comm_id);\n        if (msg_handler) {\n          comm.on_msg(msg_handler);\n        }\n      } else if ((plot_id in window.PyViz.kernels) && (window.PyViz.kernels[plot_id])) {\n        var comm = window.PyViz.kernels[plot_id].connectToComm(comm_id);\n        comm.open();\n        if (msg_handler) {\n          comm.onMsg = msg_handler;\n        }\n      } else if (typeof google != 'undefined' && google.colab.kernel != null) {\n        var comm_promise = google.colab.kernel.comms.open(comm_id)\n        comm_promise.then((comm) => {\n          window.PyViz.comms[comm_id] = comm;\n          if (msg_handler) {\n            var messages = comm.messages[Symbol.asyncIterator]();\n            function processIteratorResult(result) {\n              var message = result.value;\n              var content = {data: message.data};\n              var metadata = message.metadata || {comm_id};\n              var msg = {content, metadata}\n              msg_handler(msg);\n              return messages.next().then(processIteratorResult);\n            }\n            return messages.next().then(processIteratorResult);\n          }\n        }) \n        var sendClosure = (data, metadata, buffers, disposeOnDone) => {\n          return comm_promise.then((comm) => {\n            comm.send(data, metadata, buffers, disposeOnDone);\n          });\n        };\n        var comm = {\n          send: sendClosure\n        };\n      }\n      window.PyViz.comms[comm_id] = comm;\n      return comm;\n    }\n    window.PyViz.comm_manager = new JupyterCommManager();\n    \n\n\nvar JS_MIME_TYPE = 'application/javascript';\nvar HTML_MIME_TYPE = 'text/html';\nvar EXEC_MIME_TYPE = 'application/vnd.holoviews_exec.v0+json';\nvar CLASS_NAME = 'output';\n\n/**\n * Render data to the DOM node\n */\nfunction render(props, node) {\n  var div = document.createElement(\"div\");\n  var script = document.createElement(\"script\");\n  node.appendChild(div);\n  node.appendChild(script);\n}\n\n/**\n * Handle when a new output is added\n */\nfunction handle_add_output(event, handle) {\n  var output_area = handle.output_area;\n  var output = handle.output;\n  if ((output.data == undefined) || (!output.data.hasOwnProperty(EXEC_MIME_TYPE))) {\n    return\n  }\n  var id = output.metadata[EXEC_MIME_TYPE][\"id\"];\n  var toinsert = output_area.element.find(\".\" + CLASS_NAME.split(' ')[0]);\n  if (id !== undefined) {\n    var nchildren = toinsert.length;\n    var html_node = toinsert[nchildren-1].children[0];\n    html_node.innerHTML = output.data[HTML_MIME_TYPE];\n    var scripts = [];\n    var nodelist = html_node.querySelectorAll(\"script\");\n    for (var i in nodelist) {\n      if (nodelist.hasOwnProperty(i)) {\n        scripts.push(nodelist[i])\n      }\n    }\n\n    scripts.forEach( function (oldScript) {\n      var newScript = document.createElement(\"script\");\n      var attrs = [];\n      var nodemap = oldScript.attributes;\n      for (var j in nodemap) {\n        if (nodemap.hasOwnProperty(j)) {\n          attrs.push(nodemap[j])\n        }\n      }\n      attrs.forEach(function(attr) { newScript.setAttribute(attr.name, attr.value) });\n      newScript.appendChild(document.createTextNode(oldScript.innerHTML));\n      oldScript.parentNode.replaceChild(newScript, oldScript);\n    });\n    if (JS_MIME_TYPE in output.data) {\n      toinsert[nchildren-1].children[1].textContent = output.data[JS_MIME_TYPE];\n    }\n    output_area._hv_plot_id = id;\n    if ((window.Bokeh !== undefined) && (id in Bokeh.index)) {\n      window.PyViz.plot_index[id] = Bokeh.index[id];\n    } else {\n      window.PyViz.plot_index[id] = null;\n    }\n  } else if (output.metadata[EXEC_MIME_TYPE][\"server_id\"] !== undefined) {\n    var bk_div = document.createElement(\"div\");\n    bk_div.innerHTML = output.data[HTML_MIME_TYPE];\n    var script_attrs = bk_div.children[0].attributes;\n    for (var i = 0; i < script_attrs.length; i++) {\n      toinsert[toinsert.length - 1].childNodes[1].setAttribute(script_attrs[i].name, script_attrs[i].value);\n    }\n    // store reference to server id on output_area\n    output_area._bokeh_server_id = output.metadata[EXEC_MIME_TYPE][\"server_id\"];\n  }\n}\n\n/**\n * Handle when an output is cleared or removed\n */\nfunction handle_clear_output(event, handle) {\n  var id = handle.cell.output_area._hv_plot_id;\n  var server_id = handle.cell.output_area._bokeh_server_id;\n  if (((id === undefined) || !(id in PyViz.plot_index)) && (server_id !== undefined)) { return; }\n  var comm = window.PyViz.comm_manager.get_client_comm(\"hv-extension-comm\", \"hv-extension-comm\", function () {});\n  if (server_id !== null) {\n    comm.send({event_type: 'server_delete', 'id': server_id});\n    return;\n  } else if (comm !== null) {\n    comm.send({event_type: 'delete', 'id': id});\n  }\n  delete PyViz.plot_index[id];\n  if ((window.Bokeh !== undefined) & (id in window.Bokeh.index)) {\n    var doc = window.Bokeh.index[id].model.document\n    doc.clear();\n    const i = window.Bokeh.documents.indexOf(doc);\n    if (i > -1) {\n      window.Bokeh.documents.splice(i, 1);\n    }\n  }\n}\n\n/**\n * Handle kernel restart event\n */\nfunction handle_kernel_cleanup(event, handle) {\n  delete PyViz.comms[\"hv-extension-comm\"];\n  window.PyViz.plot_index = {}\n}\n\n/**\n * Handle update_display_data messages\n */\nfunction handle_update_output(event, handle) {\n  handle_clear_output(event, {cell: {output_area: handle.output_area}})\n  handle_add_output(event, handle)\n}\n\nfunction register_renderer(events, OutputArea) {\n  function append_mime(data, metadata, element) {\n    // create a DOM node to render to\n    var toinsert = this.create_output_subarea(\n    metadata,\n    CLASS_NAME,\n    EXEC_MIME_TYPE\n    );\n    this.keyboard_manager.register_events(toinsert);\n    // Render to node\n    var props = {data: data, metadata: metadata[EXEC_MIME_TYPE]};\n    render(props, toinsert[0]);\n    element.append(toinsert);\n    return toinsert\n  }\n\n  events.on('output_added.OutputArea', handle_add_output);\n  events.on('output_updated.OutputArea', handle_update_output);\n  events.on('clear_output.CodeCell', handle_clear_output);\n  events.on('delete.Cell', handle_clear_output);\n  events.on('kernel_ready.Kernel', handle_kernel_cleanup);\n\n  OutputArea.prototype.register_mime_type(EXEC_MIME_TYPE, append_mime, {\n    safe: true,\n    index: 0\n  });\n}\n\nif (window.Jupyter !== undefined) {\n  try {\n    var events = require('base/js/events');\n    var OutputArea = require('notebook/js/outputarea').OutputArea;\n    if (OutputArea.prototype.mime_types().indexOf(EXEC_MIME_TYPE) == -1) {\n      register_renderer(events, OutputArea);\n    }\n  } catch(err) {\n  }\n}\n",
      "application/vnd.holoviews_load.v0+json": ""
     },
     "metadata": {},
     "output_type": "display_data"
    },
    {
     "data": {
      "text/html": [
       "<style>*[data-root-id],\n",
       "*[data-root-id] > * {\n",
       "  box-sizing: border-box;\n",
       "  font-family: var(--jp-ui-font-family);\n",
       "  font-size: var(--jp-ui-font-size1);\n",
       "  color: var(--vscode-editor-foreground, var(--jp-ui-font-color1));\n",
       "}\n",
       "\n",
       "/* Override VSCode background color */\n",
       ".cell-output-ipywidget-background:has(\n",
       "    > .cell-output-ipywidget-background > .lm-Widget > *[data-root-id]\n",
       "  ),\n",
       ".cell-output-ipywidget-background:has(> .lm-Widget > *[data-root-id]) {\n",
       "  background-color: transparent !important;\n",
       "}\n",
       "</style>"
      ]
     },
     "metadata": {},
     "output_type": "display_data"
    },
    {
     "name": "stdout",
     "output_type": "stream",
     "text": [
      "Object `json` not found.\n"
     ]
    }
   ],
   "source": [
    "# Dependencies and Setup\n",
    "import hvplot.pandas\n",
    "import pandas as pd\n",
    "import geoviews as gv\n",
    "import geoviews.feature as gf\n",
    "from holoviews import dim\n",
    "from geoviews import dim, opts\n",
    "from shapely.geometry import Point\n",
    "\n",
    "import requests\n",
    "\n",
    "# Import API key\n",
    "from api_keys import https://maps.googleapis.com/maps/api/geocode/json?"
   ]
  },
  {
   "cell_type": "markdown",
   "metadata": {},
   "source": []
  },
  {
   "cell_type": "code",
   "execution_count": 2,
   "metadata": {},
   "outputs": [
    {
     "data": {
      "text/html": [
       "<div>\n",
       "<style scoped>\n",
       "    .dataframe tbody tr th:only-of-type {\n",
       "        vertical-align: middle;\n",
       "    }\n",
       "\n",
       "    .dataframe tbody tr th {\n",
       "        vertical-align: top;\n",
       "    }\n",
       "\n",
       "    .dataframe thead th {\n",
       "        text-align: right;\n",
       "    }\n",
       "</style>\n",
       "<table border=\"1\" class=\"dataframe\">\n",
       "  <thead>\n",
       "    <tr style=\"text-align: right;\">\n",
       "      <th></th>\n",
       "      <th>City_ID</th>\n",
       "      <th>City</th>\n",
       "      <th>Lat</th>\n",
       "      <th>Lng</th>\n",
       "      <th>Max Temp</th>\n",
       "      <th>Humidity</th>\n",
       "      <th>Cloudiness</th>\n",
       "      <th>Wind Speed</th>\n",
       "      <th>Country</th>\n",
       "      <th>Date</th>\n",
       "    </tr>\n",
       "  </thead>\n",
       "  <tbody>\n",
       "    <tr>\n",
       "      <th>0</th>\n",
       "      <td>0</td>\n",
       "      <td>faya</td>\n",
       "      <td>18.3851</td>\n",
       "      <td>42.4509</td>\n",
       "      <td>22.06</td>\n",
       "      <td>35</td>\n",
       "      <td>21</td>\n",
       "      <td>2.60</td>\n",
       "      <td>SA</td>\n",
       "      <td>1666108228</td>\n",
       "    </tr>\n",
       "    <tr>\n",
       "      <th>1</th>\n",
       "      <td>1</td>\n",
       "      <td>farsund</td>\n",
       "      <td>58.0948</td>\n",
       "      <td>6.8047</td>\n",
       "      <td>13.30</td>\n",
       "      <td>100</td>\n",
       "      <td>0</td>\n",
       "      <td>7.65</td>\n",
       "      <td>NO</td>\n",
       "      <td>1666108228</td>\n",
       "    </tr>\n",
       "    <tr>\n",
       "      <th>2</th>\n",
       "      <td>2</td>\n",
       "      <td>new norfolk</td>\n",
       "      <td>-42.7826</td>\n",
       "      <td>147.0587</td>\n",
       "      <td>11.72</td>\n",
       "      <td>58</td>\n",
       "      <td>12</td>\n",
       "      <td>1.34</td>\n",
       "      <td>AU</td>\n",
       "      <td>1666108230</td>\n",
       "    </tr>\n",
       "    <tr>\n",
       "      <th>3</th>\n",
       "      <td>3</td>\n",
       "      <td>jamestown</td>\n",
       "      <td>42.0970</td>\n",
       "      <td>-79.2353</td>\n",
       "      <td>5.77</td>\n",
       "      <td>77</td>\n",
       "      <td>100</td>\n",
       "      <td>9.77</td>\n",
       "      <td>US</td>\n",
       "      <td>1666107934</td>\n",
       "    </tr>\n",
       "    <tr>\n",
       "      <th>4</th>\n",
       "      <td>4</td>\n",
       "      <td>lanzhou</td>\n",
       "      <td>36.0564</td>\n",
       "      <td>103.7922</td>\n",
       "      <td>14.53</td>\n",
       "      <td>48</td>\n",
       "      <td>59</td>\n",
       "      <td>1.20</td>\n",
       "      <td>CN</td>\n",
       "      <td>1666108230</td>\n",
       "    </tr>\n",
       "  </tbody>\n",
       "</table>\n",
       "</div>"
      ],
      "text/plain": [
       "   City_ID         City      Lat       Lng  Max Temp  Humidity  Cloudiness  \\\n",
       "0        0         faya  18.3851   42.4509     22.06        35          21   \n",
       "1        1      farsund  58.0948    6.8047     13.30       100           0   \n",
       "2        2  new norfolk -42.7826  147.0587     11.72        58          12   \n",
       "3        3    jamestown  42.0970  -79.2353      5.77        77         100   \n",
       "4        4      lanzhou  36.0564  103.7922     14.53        48          59   \n",
       "\n",
       "   Wind Speed Country        Date  \n",
       "0        2.60      SA  1666108228  \n",
       "1        7.65      NO  1666108228  \n",
       "2        1.34      AU  1666108230  \n",
       "3        9.77      US  1666107934  \n",
       "4        1.20      CN  1666108230  "
      ]
     },
     "execution_count": 2,
     "metadata": {},
     "output_type": "execute_result"
    }
   ],
   "source": [
    "# Load the CSV file created in Part 1 into a Pandas DataFrame\n",
    "city_data_df = pd.read_csv(\"~/Downloads/Starter_Code 9/output_data/cities.csv\")\n",
    "\n",
    "# Display sample data\n",
    "city_data_df.head()"
   ]
  },
  {
   "cell_type": "markdown",
   "metadata": {},
   "source": [
    "---\n",
    "\n",
    "### Step 1: Create a map that displays a point for every city in the `city_data_df` DataFrame. The size of the point should be the humidity in each city."
   ]
  },
  {
   "cell_type": "code",
   "execution_count": 5,
   "metadata": {},
   "outputs": [
    {
     "data": {},
     "metadata": {},
     "output_type": "display_data"
    },
    {
     "data": {
      "application/vnd.holoviews_exec.v0+json": "",
      "text/html": [
       "<div id='p1005'>\n",
       "  <div id=\"cd8b3b44-fcfe-4e04-b998-9bc0ff630c58\" data-root-id=\"p1005\" style=\"display: contents;\"></div>\n",
       "</div>\n",
       "<script type=\"application/javascript\">(function(root) {\n",
       "  var docs_json = {\"933c0454-54e9-4aa1-89c7-572552cb8c34\":{\"version\":\"3.2.2\",\"title\":\"Bokeh Application\",\"roots\":[{\"type\":\"object\",\"name\":\"Row\",\"id\":\"p1005\",\"attributes\":{\"name\":\"Row01534\",\"tags\":[\"embedded\"],\"stylesheets\":[\"\\n:host(.pn-loading.pn-arc):before, .pn-loading.pn-arc:before {\\n  background-image: url(\\\"data:image/svg+xml;base64,PHN2ZyB4bWxucz0iaHR0cDovL3d3dy53My5vcmcvMjAwMC9zdmciIHN0eWxlPSJtYXJnaW46IGF1dG87IGJhY2tncm91bmQ6IG5vbmU7IGRpc3BsYXk6IGJsb2NrOyBzaGFwZS1yZW5kZXJpbmc6IGF1dG87IiB2aWV3Qm94PSIwIDAgMTAwIDEwMCIgcHJlc2VydmVBc3BlY3RSYXRpbz0ieE1pZFlNaWQiPiAgPGNpcmNsZSBjeD0iNTAiIGN5PSI1MCIgZmlsbD0ibm9uZSIgc3Ryb2tlPSIjYzNjM2MzIiBzdHJva2Utd2lkdGg9IjEwIiByPSIzNSIgc3Ryb2tlLWRhc2hhcnJheT0iMTY0LjkzMzYxNDMxMzQ2NDE1IDU2Ljk3Nzg3MTQzNzgyMTM4Ij4gICAgPGFuaW1hdGVUcmFuc2Zvcm0gYXR0cmlidXRlTmFtZT0idHJhbnNmb3JtIiB0eXBlPSJyb3RhdGUiIHJlcGVhdENvdW50PSJpbmRlZmluaXRlIiBkdXI9IjFzIiB2YWx1ZXM9IjAgNTAgNTA7MzYwIDUwIDUwIiBrZXlUaW1lcz0iMDsxIj48L2FuaW1hdGVUcmFuc2Zvcm0+ICA8L2NpcmNsZT48L3N2Zz4=\\\");\\n  background-size: auto calc(min(50%, 400px));\\n}\",{\"type\":\"object\",\"name\":\"ImportedStyleSheet\",\"id\":\"p1008\",\"attributes\":{\"url\":\"https://cdn.holoviz.org/panel/1.2.1/dist/css/loading.css\"}},{\"type\":\"object\",\"name\":\"ImportedStyleSheet\",\"id\":\"p1068\",\"attributes\":{\"url\":\"https://cdn.holoviz.org/panel/1.2.1/dist/css/listpanel.css\"}},{\"type\":\"object\",\"name\":\"ImportedStyleSheet\",\"id\":\"p1006\",\"attributes\":{\"url\":\"https://cdn.holoviz.org/panel/1.2.1/dist/bundled/theme/default.css\"}},{\"type\":\"object\",\"name\":\"ImportedStyleSheet\",\"id\":\"p1007\",\"attributes\":{\"url\":\"https://cdn.holoviz.org/panel/1.2.1/dist/bundled/theme/native.css\"}}],\"min_width\":300,\"margin\":0,\"sizing_mode\":\"stretch_width\",\"align\":\"start\",\"children\":[{\"type\":\"object\",\"name\":\"Spacer\",\"id\":\"p1009\",\"attributes\":{\"name\":\"HSpacer01545\",\"stylesheets\":[\"\\n:host(.pn-loading.pn-arc):before, .pn-loading.pn-arc:before {\\n  background-image: url(\\\"data:image/svg+xml;base64,PHN2ZyB4bWxucz0iaHR0cDovL3d3dy53My5vcmcvMjAwMC9zdmciIHN0eWxlPSJtYXJnaW46IGF1dG87IGJhY2tncm91bmQ6IG5vbmU7IGRpc3BsYXk6IGJsb2NrOyBzaGFwZS1yZW5kZXJpbmc6IGF1dG87IiB2aWV3Qm94PSIwIDAgMTAwIDEwMCIgcHJlc2VydmVBc3BlY3RSYXRpbz0ieE1pZFlNaWQiPiAgPGNpcmNsZSBjeD0iNTAiIGN5PSI1MCIgZmlsbD0ibm9uZSIgc3Ryb2tlPSIjYzNjM2MzIiBzdHJva2Utd2lkdGg9IjEwIiByPSIzNSIgc3Ryb2tlLWRhc2hhcnJheT0iMTY0LjkzMzYxNDMxMzQ2NDE1IDU2Ljk3Nzg3MTQzNzgyMTM4Ij4gICAgPGFuaW1hdGVUcmFuc2Zvcm0gYXR0cmlidXRlTmFtZT0idHJhbnNmb3JtIiB0eXBlPSJyb3RhdGUiIHJlcGVhdENvdW50PSJpbmRlZmluaXRlIiBkdXI9IjFzIiB2YWx1ZXM9IjAgNTAgNTA7MzYwIDUwIDUwIiBrZXlUaW1lcz0iMDsxIj48L2FuaW1hdGVUcmFuc2Zvcm0+ICA8L2NpcmNsZT48L3N2Zz4=\\\");\\n  background-size: auto calc(min(50%, 400px));\\n}\",{\"id\":\"p1008\"},{\"id\":\"p1006\"},{\"id\":\"p1007\"}],\"margin\":0,\"sizing_mode\":\"stretch_width\",\"align\":\"start\"}},{\"type\":\"object\",\"name\":\"Figure\",\"id\":\"p1021\",\"attributes\":{\"width\":300,\"height\":300,\"margin\":[5,10],\"sizing_mode\":\"fixed\",\"align\":\"start\",\"x_range\":{\"type\":\"object\",\"name\":\"Range1d\",\"id\":\"p1013\",\"attributes\":{\"tags\":[[[\"Lng\",\"Lng\",null]],[]],\"start\":-19981848.59739268,\"end\":19981848.59739268,\"reset_start\":-19981848.59739268,\"reset_end\":19981848.59739268,\"min_interval\":5}},\"y_range\":{\"type\":\"object\",\"name\":\"Range1d\",\"id\":\"p1014\",\"attributes\":{\"tags\":[[[\"Lat\",\"Lat\",null]],{\"type\":\"map\",\"entries\":[[\"invert_yaxis\",false],[\"autorange\",false]]}],\"start\":-10477332.920279177,\"end\":20037508.342789248,\"reset_start\":-10477332.920279177,\"reset_end\":20037508.342789248,\"min_interval\":5}},\"x_scale\":{\"type\":\"object\",\"name\":\"LinearScale\",\"id\":\"p1031\"},\"y_scale\":{\"type\":\"object\",\"name\":\"LinearScale\",\"id\":\"p1032\"},\"title\":{\"type\":\"object\",\"name\":\"Title\",\"id\":\"p1024\",\"attributes\":{\"text\":\"Humidity Map\",\"text_color\":\"black\",\"text_font_size\":\"12pt\"}},\"renderers\":[{\"type\":\"object\",\"name\":\"GlyphRenderer\",\"id\":\"p1055\",\"attributes\":{\"data_source\":{\"type\":\"object\",\"name\":\"ColumnDataSource\",\"id\":\"p1046\",\"attributes\":{\"selected\":{\"type\":\"object\",\"name\":\"Selection\",\"id\":\"p1047\",\"attributes\":{\"indices\":[],\"line_indices\":[]}},\"selection_policy\":{\"type\":\"object\",\"name\":\"UnionRenderers\",\"id\":\"p1048\"},\"data\":{\"type\":\"map\",\"entries\":[[\"Lng\",{\"type\":\"ndarray\",\"array\":{\"type\":\"bytes\",\"data\":\"hv+WJNsGUkGGVl567x0nQeoaOXNoOW9BG5n2J9rSYMFIJ0bbpQlmQbvSJ07sAF3B6w8T7uVoX8FNKfsikCBoQacYGqzeylbB9T/mdQyPV0G4g7nBBBJWwc+J3XyKJUpBu8PtfPCsUMGYhFkDEPVXQU2HpAaBdF3BnwI6/lPtcUHbS835aMNlQY+KnrQG90/BdSaUf7lca0FAwMiLFy9jwaKQQ3pN9nDBxZAnXzwhZcEWDD6lFtRWwRigvNNHqGzBYbGvLHqDcEHHvM+Kc8BewQZF/n4BZmDBc9hT39eGWEFyrAwqYiBTQYlrpVygejnBq/WQ4QSuZMH5LtfRjSY2QeMAJz4tSz9B7mwc2zuyJcHnwhwTEl5PQaaLKXcLaG9BYtM+C82fR0Gvnuo/WGImwQzHFdPu0mdBHuP9DONYZsH7jCHumSBdwY6vGuOublHBCaAGoDjWAkGwfTKNCVlfwfx0bs+7CWPBPlRC3+jpcMG/I4EuWEFTQZmRVgryuFJBSaRJQBEPcEH9Gy45H0hvQZ+hdgceGmFBees7vfl2cMGIBTopd7xBQT0mvdDkLDJBBnqXbISZcsE3ma4TLTlWwbWqX26vzFZBNTl82IbdZ0E2bLOMkLRHQam+R4f3fGhBzwMdCaWgakHWvqWYkw1Dwd4v8GMkpXDBS3+XwYgOYUEkDhmFL4VtwYfkcV/7VUBBAWrY5RlxWMETMWygrapQwbEsg3sQ2WxB+V/k/i0FQUHKWSuyMoBuQQ114RTuM13BBpbqHWpjWMElnaB5CG4yQYsFptsFOWhBTbQJmjZMYkHoHSuVtvg7Qe43HBaKG1XBLuSZY7uCDMGA9Zmnl4BYQaZKSom3fmNB1VIf7GTIcMFgnQ0lKwBbQSC4r73m4WlBrx9o9bA5Q0G7UxI84WVywYScnAg/HFrBY1HCjo2uV0H0ieVKyws9wah9FzGoAm1BtCWTheMdaMEwYSSBAqJDQdzYfxJY4m9BCnb8tNz/XkEzxD9RBlhyQaso0Jzx2F5BjHf8AhNUZUEMnbjiiPdpQYci9q1c81DBVxJf+3Y/YUE2cXbP0DxVwUDtpATCEWtBfMlS6bpkXcHaEKd/5GFIQeIz1ZPl3nFBBYG2h9BTWMHZTZPVJpMewRuTI3gRDU5BGQsg0D0YXcH3nM0fhkZfwUSFy9VEolzB65D929rNRMGePTImdGRWwZqGtz1LAnBBEWVtlRFyaEF3GFskgQFowZmaFyERPWhBzGSlyzMccMFR7eNS3NhRwTObdO/qCF9BumClNqrWRkERxVTSkBxnQS9jVGnZxGJBF4Pq1sfpSEGRKpOXnEZoQX7hzuT93WFBnhKyhdWzVsFK/NuyoeBKQf8WIy2i/mnBWG3O89wSYsGF0pBhcT5hwX+6DFbku2zBfQCyu2IdXsHg2jK0zM9hwV0okdtQDWhBQ16rBVQ3a0FzG1VNshRvQZ3qeUF5t0VBmda85i+TY8EDiF60wE1lQd2V+/NGP2zBVaYV3Ld3ZMFqY9eMlt4vwXW4eUhvgWNBYLzVsfxTYMHAPKhcAwlZQXkvfLQUjDfBjzWrq2fjbUErpJ1a30svQZY6mudDMGrBPhRuxwNzckG5aVsR/BZqQS89lwt7nHDBOXbPDl8ncsHy4LU2Nz1kQfHteoKi51vBL3F/XMGhYcHQGgkTrAFvQb5zkEBPAVFBnhijtBtVaEGlLFwQJypwQXwfRcKnR2jBALOTVjhNVcF4kchf94JQwY13fIfGLmDBB41/QT/UVEFpADEFeb9ZwYFYLewECHJBRjSO10fJWkGlK/mdlOdwQb+QeLVpR1lBYd8K8b5aZsGB0KaT+v1DQbQgiHlm1GLBoOf0V8eFYcGxN/T+uVoMQePM8MI8WlzBd7KTVfYjRMH1IvifhB5lwQTvMrvpeDbB+RmNw1mPccHkJJY0N3VjQb/a3mFXJ01BmzLot5/YV8FF1HRJJuVoQc7C2W+ljkJBbFM3HYUNQkEnG9OdNKFIQXiwY20fAUVBak1DuVR8WEFkqqAoWyZlwRUvh7b9OGHBi31JzboUQ0FiBtphG+pNweb/XP3SWldBqqZ1WifER8Fae349cS4ewendWoV2hk1BFfTn9FTxcEHB40lH6WtGQSXZoq1D+HFBaRhNXbUUckFnpdeErXM9wXMMWz4QLnDBjYj6Er4DcEF1gQakompewf3ofGo2dmRBaJpKKPw/b0FjjHb1FWlkQfS5fmieOWxBQtw06oFwZUGqBcJyBMhpwRbYNkbeLF/BvmXinDAPZUEdtlCw8L85QX7VfBnrHU7BW8u8dIftHMGmwWv653VYwa0JZ+BrlC3B23YbSWU6YkHXYZl/uolKQVslqEbzsmdBqHbcPFSWaME2kyS8FftSQfkvvfRWfmLBmWsy1WQtYkGf7VRlH95rQfT0y/f3kDpB9QrbdI20ZMEVKj6OnKtewRFWkQXtZmhB/Fl7W36SZMGqsAC7B+5qwcfHhjHk2TVBKAtwu5JNYMHb78xFc3hywW6UMu1HXlJBjXgD2kN3WEEDGBycgqM4QWWOq7hMpVvBazg5bXpSYUFJfKv3QMQ4QWbkYATKCmFBdc+XoxgcS0HHpP1dowduQSjb1p2/H3FBcp66IaVNY0GktSgmmvpQQSrnspreN1pBTen+IhufYMEYbm538RghQQWC9RAR22hBpAPCLPP/Z0G3PmSCAaYRQRpKygPCemdBAoiQBWOHWEEWQBB+wlFDQSgLcLuSTWBB+hg6aPSpXMEgE5cqtoZlQXlFBUyJqmzBKsmTo2a+O8H/KXg6+cZkwWIvpcM2OWFB8D4XUevPYcFZraPefJ5oweGAHZihJG5BL18jtePIX8E7ACRTcQppQWf9uYMXDGrBLXuxTcPmakGkg0tOy0tewVMArRmlcV3Bo7IaIt3Tb8GaDMFNKF1vwdeRQAXeNV7BRhTs8u4nY0FoWWD+2hJRQSiSvr6ED3BBHn/EZwbnbUFtQaxZ7+pkQSbqIDk7zXFBVpHmIH6BbEG1c2xOlpBsQdABhkmfGl3BDJ+EKBunckH07LBBSPdDwTY+v596QCBB6lgAsKZ+X8G1bBCm2lhhwe7YgdMCLEFBxooE31NGYMEZFKRZ7R4twcPiuV4UCWxB8Lt3JHMJUEHBMtoNRjdWwaW7ZFMHTUJBlG3+EZAnVUF9v5oSmBpfwef6wwRSuGJBINn9bINNUMGubzdFToxjQRwZZHCqbFhBPuADmUFtbEHeohmvkM5tQQgvRTxgN2jButrhjdphb8FXn18+EEpdwVO2EecqaG5BePc59I1rQkGbjMhNPlpgwaI+c16RymxBtPU5KmpdZsGRaaFtZRxZwW/LrZj3yOHAiw7CusvHcUF+aTYvFkZZwbVPH5to+FZBhPsjCBZ0AUF+/uvfpE1VQQfym9T6rWFBDvVMt0ikNEG81XLfGKVDQUmYFoPw8HJBbwhtePfZbEGA7d9nqR9Wwc+58+kmPmxBBrmwfhqzVcFMznqN794qwewW7XTfUVXBeVox2z9mMsE+s041bIBlwZrpgNKYElfB/eoNyc7RV8F5Afra+r5wwX+1naci/2BBKQDjXuEZckFqs+aejZ5tQQ6IfuuBvW/BSfNzAvqLacGSlPr4LtdnwaisZoltZWlBHioDsAkNX8GjxY49Jj5hQXGI41YfjlbByauJuvIEYkGCIRO3FtZWwbFQ6dvC6G5B8ya/R2HHUUF1rxzUlHA0QSV+dErypmZBhs/pNON6PkF8HIp/rtdwQQJmTCU3HFHBjdBX7Km2ZUHKkNYID/twQejRTDe1NFFBiZPczUFickEO5Mv2Zt9sQSROU6GISmJBqqybD/qOVEHPathiSVRPQX3YkiSLmElB5EOmikWKYEF+WFHM7w1rwWChH8suWldBYhBg55v6KMHGWV6J4spjwXrdMKu+UHBBV6hiebgWcMH60y8nGO8XwSDrBYDiWmDBfKXMsMJTckGJa6VcoHpJQTCuHYhZ51VBOcRoFbgsaUF1rkHtmFxqwXGGc6zu/WlBmfssSpYAa8HuGeFFCvBnQQHnuDTuz2tBpC/zac7eaEHKDozdcUNUQXVKw7NpGTJBXD9GuVUbMcHrp6xYcrFjQV6CaNuXdF5B189gsfpfSME/2b1oIL1Vwah646aKrFJBh1qANyDVLUENNbCO7IgaQcFlRkjcN0HBBBrfS704z8DFvlsOrAJqwckAS3Lv3lBBuYAmZ5usZ0F79VQK3vliwYxN1Jg5omJBm29UkpXkWMF3zhuNaBdVweeGJ33T8mHBBrU3Aej1akGAufcWYxplwfP0ODCUHlNBJ43sN9I+YMENdNo9vRBqQfBtTfwru2FBOjzl8ZcSY8FLUj1qoHouQXjsekY6/mDBtVV3od38RsH5mgdEyHZWwZl5pZGJy0hB/TvZs88DaUGP3jy8yvscQXss4/g9/F5BJbXLDFBWZ8Hew9Fh39dkwflUk1wxOnBBZHt/IvqtcUHG/IPBq4A+QX5+A+6A8jpBtNdEfbHJQEEY99e92opTwUO3Qdbk7SBBmDn3u741U8FlPteNTzlTQUBwbnv5vVVBla3CX/VEb0FcsyoKEaI5QU/yUgGelU3BTgf/C6F2aEGw+MR0iblUwQodQF7rGWDByXG7djOicUFGwR88zxxeQX7JtpRmjVnBKjcNq/yoV0HZrUjBAwRqQRI16u/Yy21BbefcYIvXaEHNvMkybUtqQczqu3kNlmFBYAhYdJz4XkGniHI8t/xXwYSs+hjoCzDBlCXexRPyREHPifyKfMdQQaJnkPL7CXLBY03iOSyOTkF/xOgVWcFpwTXF31AIGFfBX81FzDz1ZcECwh6HyHz7QGIaEl1RGi1BUHXOTStWZsHYd/42RKJmQUXUxai6wGJBF1UoO1SvFMGxa5yNpvJvQeg/C9Od8FzBXoZyerh6YMERT3LqoKxSwWV3tHJ4AEVBb1HMTbSWTUG4VvCLCsdawXQURKMdjlPB5FHZhBC7aUEcHJDz5G5YQfCLtLzg9RfBvG6+uZwwcUG9e6jBFKtvwQhPlBuv02VBnmF0ndS4aUECmvF+OcRsQR53/+tKQmlBVqqvDVIAVsGa0bnhlZ1YwfTssEFI90PB3OZUy0vKXEE/r4eNj9dIQZgkMgQ33WtBT/ebKf8iIEHTT/qcUgVzwfaf2yNDbWDBRwPrtsA9ZkHg+tSYJXE5QWQ5bbGG4GnBiHTBO2YJc0FLYrdTURwTwcwT7SPjgWtBdcf5PDJtV8FRT8vMBZZsQU6A+jMbUWDBLUqGoaUsYcGjpuW+RoxSQbyMbHDTF0dBuaE/kKvuUkFmFJtRUSlcQd4FDLvir2VBCShjroP6Z0EZjZRFmrViQWOt6ISd2mPB7m9FKYzEXcHsuRtDACJiwQMp2unT5UVBKj07Z7LHbkE+RgMa3K5dQQ9HIq5k6WBBdLUKzvAhTkEWZAzSWw5vQSTALh9CpDxBbP9dLse0T0HCaAC4GpNwQW1G1nNe1mBBXEJI8tA3aMGdurkO0ZNVQVfatwk35V3BeyaqALuZRcHQyd/m04Zhwdp1MvGx8k1BxATPIogqaEHTInhd2mZnwYy+du4fn1bBE31VOnyybUGRZUTJOhFtQXA5b2nKdGVBBasoHRaickFum5HK7YVlQWdBZIdLdEdBl/3qHnF8WcGLQPNqX5BmQe6REiTDJGLB8yN6F6JNVUGU4bARqXRKQSyiOyFm7zzB64cB3sH1aUE4Cp+cJNcxQYVF1bIqBUVBTr//c4wMX8GEBryglOsxQblWJRKX8DVBoT3vN5e8ZkGzOCRN705wQXpYAfNoQ0NBISyXQ4xYasEwNuFt025pwfIqy4OQQV7BoYWz6LHSSkE/5U5nGCRfQUqQ3ZEJym1BYGyRGXlqZ0EatWWyx05lQcBUtxZDP1/Bl36rwqb7ZUHYMQ7Tno81QcoaPOpbTGRBWkyIVIqwa0GOgOEChJNpwYKw1AN1TGlBV7EDryrkRkFPMWptvoVgwZI4GibmQlPBmbU85vDtacGCjFX/pHpgwSzl2Oz7CW1BuZ4mUCGEX0Gt6QGJgnBbwf5ivPZQ8WRBS21+CIjdXkEMgp2Gu3VyQVdMDjFEAFtB54tc0w8iYEGJMq/K8js7wUKoLYtJyV3BZdRo+JRpcUE=\"},\"shape\":[577],\"dtype\":\"float64\",\"order\":\"little\"}],[\"Lat\",{\"type\":\"ndarray\",\"array\":{\"type\":\"bytes\",\"data\":\"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\"},\"shape\":[577],\"dtype\":\"float64\",\"order\":\"little\"}],[\"Humidity\",{\"type\":\"ndarray\",\"array\":{\"type\":\"bytes\",\"data\":\"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\"},\"shape\":[577],\"dtype\":\"int32\",\"order\":\"little\"}],[\"size\",{\"type\":\"ndarray\",\"array\":{\"type\":\"bytes\",\"data\":\"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\"},\"shape\":[577],\"dtype\":\"float64\",\"order\":\"little\"}]]}}},\"view\":{\"type\":\"object\",\"name\":\"CDSView\",\"id\":\"p1056\",\"attributes\":{\"filter\":{\"type\":\"object\",\"name\":\"AllIndices\",\"id\":\"p1057\"}}},\"glyph\":{\"type\":\"object\",\"name\":\"Scatter\",\"id\":\"p1052\",\"attributes\":{\"tags\":[\"apply_ranges\"],\"x\":{\"type\":\"field\",\"field\":\"Lng\"},\"y\":{\"type\":\"field\",\"field\":\"Lat\"},\"size\":{\"type\":\"field\",\"field\":\"size\"},\"line_color\":{\"type\":\"value\",\"value\":\"blue\"},\"fill_color\":{\"type\":\"value\",\"value\":\"blue\"},\"hatch_color\":{\"type\":\"value\",\"value\":\"blue\"}}},\"selection_glyph\":{\"type\":\"object\",\"name\":\"Scatter\",\"id\":\"p1060\",\"attributes\":{\"tags\":[\"apply_ranges\"],\"x\":{\"type\":\"field\",\"field\":\"Lng\"},\"y\":{\"type\":\"field\",\"field\":\"Lat\"},\"size\":{\"type\":\"field\",\"field\":\"size\"},\"angle\":{\"type\":\"value\",\"value\":0.0},\"line_color\":{\"type\":\"value\",\"value\":\"blue\"},\"line_alpha\":{\"type\":\"value\",\"value\":1.0},\"line_width\":{\"type\":\"value\",\"value\":1},\"line_join\":{\"type\":\"value\",\"value\":\"bevel\"},\"line_cap\":{\"type\":\"value\",\"value\":\"butt\"},\"line_dash\":{\"type\":\"value\",\"value\":[]},\"line_dash_offset\":{\"type\":\"value\",\"value\":0},\"fill_color\":{\"type\":\"value\",\"value\":\"blue\"},\"fill_alpha\":{\"type\":\"value\",\"value\":1.0},\"hatch_color\":{\"type\":\"value\",\"value\":\"blue\"},\"hatch_alpha\":{\"type\":\"value\",\"value\":1.0},\"hatch_scale\":{\"type\":\"value\",\"value\":12.0},\"hatch_pattern\":{\"type\":\"value\",\"value\":null},\"hatch_weight\":{\"type\":\"value\",\"value\":1.0},\"marker\":{\"type\":\"value\",\"value\":\"circle\"}}},\"nonselection_glyph\":{\"type\":\"object\",\"name\":\"Scatter\",\"id\":\"p1053\",\"attributes\":{\"tags\":[\"apply_ranges\"],\"x\":{\"type\":\"field\",\"field\":\"Lng\"},\"y\":{\"type\":\"field\",\"field\":\"Lat\"},\"size\":{\"type\":\"field\",\"field\":\"size\"},\"line_color\":{\"type\":\"value\",\"value\":\"blue\"},\"line_alpha\":{\"type\":\"value\",\"value\":0.1},\"fill_color\":{\"type\":\"value\",\"value\":\"blue\"},\"fill_alpha\":{\"type\":\"value\",\"value\":0.1},\"hatch_color\":{\"type\":\"value\",\"value\":\"blue\"},\"hatch_alpha\":{\"type\":\"value\",\"value\":0.1}}},\"muted_glyph\":{\"type\":\"object\",\"name\":\"Scatter\",\"id\":\"p1054\",\"attributes\":{\"tags\":[\"apply_ranges\"],\"x\":{\"type\":\"field\",\"field\":\"Lng\"},\"y\":{\"type\":\"field\",\"field\":\"Lat\"},\"size\":{\"type\":\"field\",\"field\":\"size\"},\"line_color\":{\"type\":\"value\",\"value\":\"blue\"},\"line_alpha\":{\"type\":\"value\",\"value\":0.2},\"fill_color\":{\"type\":\"value\",\"value\":\"blue\"},\"fill_alpha\":{\"type\":\"value\",\"value\":0.2},\"hatch_color\":{\"type\":\"value\",\"value\":\"blue\"},\"hatch_alpha\":{\"type\":\"value\",\"value\":0.2}}}}}],\"toolbar\":{\"type\":\"object\",\"name\":\"Toolbar\",\"id\":\"p1030\",\"attributes\":{\"tools\":[{\"type\":\"object\",\"name\":\"WheelZoomTool\",\"id\":\"p1017\",\"attributes\":{\"zoom_on_axis\":false}},{\"type\":\"object\",\"name\":\"BoxZoomTool\",\"id\":\"p1018\",\"attributes\":{\"overlay\":{\"type\":\"object\",\"name\":\"BoxAnnotation\",\"id\":\"p1004\",\"attributes\":{\"syncable\":false,\"level\":\"overlay\",\"visible\":false,\"left_units\":\"canvas\",\"right_units\":\"canvas\",\"bottom_units\":\"canvas\",\"top_units\":\"canvas\",\"line_color\":\"black\",\"line_alpha\":1.0,\"line_width\":2,\"line_dash\":[4,4],\"fill_color\":\"lightgrey\",\"fill_alpha\":0.5}},\"match_aspect\":true}},{\"type\":\"object\",\"name\":\"HoverTool\",\"id\":\"p1020\",\"attributes\":{\"tags\":[\"hv_created\"],\"renderers\":[{\"id\":\"p1055\"}],\"tooltips\":[[\"Lng\",\"$x{custom}\"],[\"Lat\",\"$y{custom}\"],[\"Humidity\",\"@{Humidity}\"]],\"formatters\":{\"type\":\"map\",\"entries\":[[\"$x\",{\"type\":\"object\",\"name\":\"CustomJSHover\",\"id\":\"p1058\",\"attributes\":{\"code\":\"\\n        const projections = Bokeh.require(\\\"core/util/projections\\\");\\n        const {snap_x, snap_y} = special_vars\\n        const coords = projections.wgs84_mercator.invert(snap_x, snap_y)\\n        return \\\"\\\" + (coords[0]).toFixed(4)\\n    \"}}],[\"$y\",{\"type\":\"object\",\"name\":\"CustomJSHover\",\"id\":\"p1059\",\"attributes\":{\"code\":\"\\n        const projections = Bokeh.require(\\\"core/util/projections\\\");\\n        const {snap_x, snap_y} = special_vars\\n        const coords = projections.wgs84_mercator.invert(snap_x, snap_y)\\n        return \\\"\\\" + (coords[1]).toFixed(4)\\n    \"}}]]}}},{\"type\":\"object\",\"name\":\"SaveTool\",\"id\":\"p1043\"},{\"type\":\"object\",\"name\":\"PanTool\",\"id\":\"p1044\"},{\"type\":\"object\",\"name\":\"ResetTool\",\"id\":\"p1045\"}],\"active_drag\":{\"id\":\"p1044\"}}},\"left\":[{\"type\":\"object\",\"name\":\"LinearAxis\",\"id\":\"p1038\",\"attributes\":{\"ticker\":{\"type\":\"object\",\"name\":\"MercatorTicker\",\"id\":\"p1063\",\"attributes\":{\"mantissas\":[1,2,5],\"dimension\":\"lat\"}},\"formatter\":{\"type\":\"object\",\"name\":\"MercatorTickFormatter\",\"id\":\"p1064\",\"attributes\":{\"dimension\":\"lat\"}},\"axis_label\":\"Lat\",\"major_label_policy\":{\"type\":\"object\",\"name\":\"AllLabels\",\"id\":\"p1041\"}}}],\"below\":[{\"type\":\"object\",\"name\":\"LinearAxis\",\"id\":\"p1033\",\"attributes\":{\"ticker\":{\"type\":\"object\",\"name\":\"MercatorTicker\",\"id\":\"p1061\",\"attributes\":{\"mantissas\":[1,2,5],\"dimension\":\"lon\"}},\"formatter\":{\"type\":\"object\",\"name\":\"MercatorTickFormatter\",\"id\":\"p1062\",\"attributes\":{\"dimension\":\"lon\"}},\"axis_label\":\"Lng\",\"major_label_policy\":{\"type\":\"object\",\"name\":\"AllLabels\",\"id\":\"p1036\"}}}],\"center\":[{\"type\":\"object\",\"name\":\"Grid\",\"id\":\"p1037\",\"attributes\":{\"axis\":{\"id\":\"p1033\"},\"grid_line_color\":null}},{\"type\":\"object\",\"name\":\"Grid\",\"id\":\"p1042\",\"attributes\":{\"dimension\":1,\"axis\":{\"id\":\"p1038\"},\"grid_line_color\":null}}],\"min_border_top\":10,\"min_border_bottom\":10,\"min_border_left\":10,\"min_border_right\":10,\"output_backend\":\"webgl\"}},{\"type\":\"object\",\"name\":\"Spacer\",\"id\":\"p1066\",\"attributes\":{\"name\":\"HSpacer01548\",\"stylesheets\":[\"\\n:host(.pn-loading.pn-arc):before, .pn-loading.pn-arc:before {\\n  background-image: url(\\\"data:image/svg+xml;base64,PHN2ZyB4bWxucz0iaHR0cDovL3d3dy53My5vcmcvMjAwMC9zdmciIHN0eWxlPSJtYXJnaW46IGF1dG87IGJhY2tncm91bmQ6IG5vbmU7IGRpc3BsYXk6IGJsb2NrOyBzaGFwZS1yZW5kZXJpbmc6IGF1dG87IiB2aWV3Qm94PSIwIDAgMTAwIDEwMCIgcHJlc2VydmVBc3BlY3RSYXRpbz0ieE1pZFlNaWQiPiAgPGNpcmNsZSBjeD0iNTAiIGN5PSI1MCIgZmlsbD0ibm9uZSIgc3Ryb2tlPSIjYzNjM2MzIiBzdHJva2Utd2lkdGg9IjEwIiByPSIzNSIgc3Ryb2tlLWRhc2hhcnJheT0iMTY0LjkzMzYxNDMxMzQ2NDE1IDU2Ljk3Nzg3MTQzNzgyMTM4Ij4gICAgPGFuaW1hdGVUcmFuc2Zvcm0gYXR0cmlidXRlTmFtZT0idHJhbnNmb3JtIiB0eXBlPSJyb3RhdGUiIHJlcGVhdENvdW50PSJpbmRlZmluaXRlIiBkdXI9IjFzIiB2YWx1ZXM9IjAgNTAgNTA7MzYwIDUwIDUwIiBrZXlUaW1lcz0iMDsxIj48L2FuaW1hdGVUcmFuc2Zvcm0+ICA8L2NpcmNsZT48L3N2Zz4=\\\");\\n  background-size: auto calc(min(50%, 400px));\\n}\",{\"id\":\"p1008\"},{\"id\":\"p1006\"},{\"id\":\"p1007\"}],\"margin\":0,\"sizing_mode\":\"stretch_width\",\"align\":\"start\"}}]}}],\"defs\":[{\"type\":\"model\",\"name\":\"ReactiveHTML1\"},{\"type\":\"model\",\"name\":\"FlexBox1\",\"properties\":[{\"name\":\"align_content\",\"kind\":\"Any\",\"default\":\"flex-start\"},{\"name\":\"align_items\",\"kind\":\"Any\",\"default\":\"flex-start\"},{\"name\":\"flex_direction\",\"kind\":\"Any\",\"default\":\"row\"},{\"name\":\"flex_wrap\",\"kind\":\"Any\",\"default\":\"wrap\"},{\"name\":\"justify_content\",\"kind\":\"Any\",\"default\":\"flex-start\"}]},{\"type\":\"model\",\"name\":\"FloatPanel1\",\"properties\":[{\"name\":\"config\",\"kind\":\"Any\",\"default\":{\"type\":\"map\"}},{\"name\":\"contained\",\"kind\":\"Any\",\"default\":true},{\"name\":\"position\",\"kind\":\"Any\",\"default\":\"right-top\"},{\"name\":\"offsetx\",\"kind\":\"Any\",\"default\":null},{\"name\":\"offsety\",\"kind\":\"Any\",\"default\":null},{\"name\":\"theme\",\"kind\":\"Any\",\"default\":\"primary\"},{\"name\":\"status\",\"kind\":\"Any\",\"default\":\"normalized\"}]},{\"type\":\"model\",\"name\":\"GridStack1\",\"properties\":[{\"name\":\"mode\",\"kind\":\"Any\",\"default\":\"warn\"},{\"name\":\"ncols\",\"kind\":\"Any\",\"default\":null},{\"name\":\"nrows\",\"kind\":\"Any\",\"default\":null},{\"name\":\"allow_resize\",\"kind\":\"Any\",\"default\":true},{\"name\":\"allow_drag\",\"kind\":\"Any\",\"default\":true},{\"name\":\"state\",\"kind\":\"Any\",\"default\":[]}]},{\"type\":\"model\",\"name\":\"drag1\",\"properties\":[{\"name\":\"slider_width\",\"kind\":\"Any\",\"default\":5},{\"name\":\"slider_color\",\"kind\":\"Any\",\"default\":\"black\"},{\"name\":\"value\",\"kind\":\"Any\",\"default\":50}]},{\"type\":\"model\",\"name\":\"click1\",\"properties\":[{\"name\":\"terminal_output\",\"kind\":\"Any\",\"default\":\"\"},{\"name\":\"debug_name\",\"kind\":\"Any\",\"default\":\"\"},{\"name\":\"clears\",\"kind\":\"Any\",\"default\":0}]},{\"type\":\"model\",\"name\":\"FastWrapper1\",\"properties\":[{\"name\":\"object\",\"kind\":\"Any\",\"default\":null},{\"name\":\"style\",\"kind\":\"Any\",\"default\":null}]},{\"type\":\"model\",\"name\":\"NotificationAreaBase1\",\"properties\":[{\"name\":\"js_events\",\"kind\":\"Any\",\"default\":{\"type\":\"map\"}},{\"name\":\"position\",\"kind\":\"Any\",\"default\":\"bottom-right\"},{\"name\":\"_clear\",\"kind\":\"Any\",\"default\":0}]},{\"type\":\"model\",\"name\":\"NotificationArea1\",\"properties\":[{\"name\":\"js_events\",\"kind\":\"Any\",\"default\":{\"type\":\"map\"}},{\"name\":\"notifications\",\"kind\":\"Any\",\"default\":[]},{\"name\":\"position\",\"kind\":\"Any\",\"default\":\"bottom-right\"},{\"name\":\"_clear\",\"kind\":\"Any\",\"default\":0},{\"name\":\"types\",\"kind\":\"Any\",\"default\":[{\"type\":\"map\",\"entries\":[[\"type\",\"warning\"],[\"background\",\"#ffc107\"],[\"icon\",{\"type\":\"map\",\"entries\":[[\"className\",\"fas fa-exclamation-triangle\"],[\"tagName\",\"i\"],[\"color\",\"white\"]]}]]},{\"type\":\"map\",\"entries\":[[\"type\",\"info\"],[\"background\",\"#007bff\"],[\"icon\",{\"type\":\"map\",\"entries\":[[\"className\",\"fas fa-info-circle\"],[\"tagName\",\"i\"],[\"color\",\"white\"]]}]]}]}]},{\"type\":\"model\",\"name\":\"Notification\",\"properties\":[{\"name\":\"background\",\"kind\":\"Any\",\"default\":null},{\"name\":\"duration\",\"kind\":\"Any\",\"default\":3000},{\"name\":\"icon\",\"kind\":\"Any\",\"default\":null},{\"name\":\"message\",\"kind\":\"Any\",\"default\":\"\"},{\"name\":\"notification_type\",\"kind\":\"Any\",\"default\":null},{\"name\":\"_destroyed\",\"kind\":\"Any\",\"default\":false}]},{\"type\":\"model\",\"name\":\"TemplateActions1\",\"properties\":[{\"name\":\"open_modal\",\"kind\":\"Any\",\"default\":0},{\"name\":\"close_modal\",\"kind\":\"Any\",\"default\":0}]},{\"type\":\"model\",\"name\":\"BootstrapTemplateActions1\",\"properties\":[{\"name\":\"open_modal\",\"kind\":\"Any\",\"default\":0},{\"name\":\"close_modal\",\"kind\":\"Any\",\"default\":0}]},{\"type\":\"model\",\"name\":\"MaterialTemplateActions1\",\"properties\":[{\"name\":\"open_modal\",\"kind\":\"Any\",\"default\":0},{\"name\":\"close_modal\",\"kind\":\"Any\",\"default\":0}]}]}};\n",
       "  var render_items = [{\"docid\":\"933c0454-54e9-4aa1-89c7-572552cb8c34\",\"roots\":{\"p1005\":\"cd8b3b44-fcfe-4e04-b998-9bc0ff630c58\"},\"root_ids\":[\"p1005\"]}];\n",
       "  var docs = Object.values(docs_json)\n",
       "  if (!docs) {\n",
       "    return\n",
       "  }\n",
       "  const py_version = docs[0].version.replace('rc', '-rc.').replace('.dev', '-dev.')\n",
       "  const is_dev = py_version.indexOf(\"+\") !== -1 || py_version.indexOf(\"-\") !== -1\n",
       "  function embed_document(root) {\n",
       "    var Bokeh = get_bokeh(root)\n",
       "    Bokeh.embed.embed_items_notebook(docs_json, render_items);\n",
       "    for (const render_item of render_items) {\n",
       "      for (const root_id of render_item.root_ids) {\n",
       "\tconst id_el = document.getElementById(root_id)\n",
       "\tif (id_el.children.length && (id_el.children[0].className === 'bk-root')) {\n",
       "\t  const root_el = id_el.children[0]\n",
       "\t  root_el.id = root_el.id + '-rendered'\n",
       "\t}\n",
       "      }\n",
       "    }\n",
       "  }\n",
       "  function get_bokeh(root) {\n",
       "    if (root.Bokeh === undefined) {\n",
       "      return null\n",
       "    } else if (root.Bokeh.version !== py_version && !is_dev) {\n",
       "      if (root.Bokeh.versions === undefined || !root.Bokeh.versions.has(py_version)) {\n",
       "\treturn null\n",
       "      }\n",
       "      return root.Bokeh.versions.get(py_version);\n",
       "    } else if (root.Bokeh.version === py_version) {\n",
       "      return root.Bokeh\n",
       "    }\n",
       "    return null\n",
       "  }\n",
       "  function is_loaded(root) {\n",
       "    var Bokeh = get_bokeh(root)\n",
       "    return (Bokeh != null && Bokeh.Panel !== undefined)\n",
       "  }\n",
       "  if (is_loaded(root)) {\n",
       "    embed_document(root);\n",
       "  } else {\n",
       "    var attempts = 0;\n",
       "    var timer = setInterval(function(root) {\n",
       "      if (is_loaded(root)) {\n",
       "        clearInterval(timer);\n",
       "        embed_document(root);\n",
       "      } else if (document.readyState == \"complete\") {\n",
       "        attempts++;\n",
       "        if (attempts > 200) {\n",
       "          clearInterval(timer);\n",
       "\t  var Bokeh = get_bokeh(root)\n",
       "\t  if (Bokeh == null || Bokeh.Panel == null) {\n",
       "            console.warn(\"Panel: ERROR: Unable to run Panel code because Bokeh or Panel library is missing\");\n",
       "\t  } else {\n",
       "\t    console.warn(\"Panel: WARNING: Attempting to render but not all required libraries could be resolved.\")\n",
       "\t    embed_document(root)\n",
       "\t  }\n",
       "        }\n",
       "      }\n",
       "    }, 25, root)\n",
       "  }\n",
       "})(window);</script>"
      ],
      "text/plain": [
       ":Points   [Lng,Lat]   (Humidity)"
      ]
     },
     "execution_count": 5,
     "metadata": {
      "application/vnd.holoviews_exec.v0+json": {
       "id": "p1005"
      }
     },
     "output_type": "execute_result"
    }
   ],
   "source": [
    "%%capture --no-display\n",
    "\n",
    "# Configure the map plot\n",
    "humidity_map = gv.Points(city_data_df, ['Lng', 'Lat'], 'Humidity').opts(\n",
    "    size=dim('Humidity') * 0.1, color='blue', cmap='Blues',\n",
    "    tools=['hover'], title='Humidity Map'\n",
    ")\n",
    "\n",
    "# Display the map\n",
    "#gv.extension('bokeh')\n",
    "humidity_map"
   ]
  },
  {
   "cell_type": "markdown",
   "metadata": {},
   "source": [
    "### Step 2: Narrow down the `city_data_df` DataFrame to find your ideal weather condition"
   ]
  },
  {
   "cell_type": "code",
   "execution_count": 6,
   "metadata": {},
   "outputs": [
    {
     "name": "stdout",
     "output_type": "stream",
     "text": [
      "     City_ID            City      Lat       Lng  Max Temp  Humidity  \\\n",
      "45        45           kapaa  22.0752 -159.3190     22.99        84   \n",
      "51        51            hilo  19.7297 -155.0900     26.27        83   \n",
      "63        63           banda  25.4833   80.3333     24.62        52   \n",
      "81        81   makakilo city  21.3469 -158.0858     21.66        81   \n",
      "152      152         kahului  20.8947 -156.4700     23.80        60   \n",
      "197      197             gat  31.6100   34.7642     24.38       100   \n",
      "211      211          laguna  38.4210 -121.4238     21.67        79   \n",
      "240      240     tikaitnagar  26.9500   81.5833     23.56        59   \n",
      "265      265     san quintin  30.4833 -115.9500     21.20        74   \n",
      "340      340   santa rosalia  27.3167 -112.2833     24.62        56   \n",
      "363      363          narwar  25.6500   77.9000     22.35        55   \n",
      "375      375    port hedland -20.3167  118.5667     21.03        73   \n",
      "381      381       roebourne -20.7833  117.1333     23.48        65   \n",
      "391      391  saint-francois  46.4154    3.9054     23.69        57   \n",
      "409      409       capoterra  39.1763    8.9718     24.84        71   \n",
      "421      421          stolac  43.0844   17.9575     24.88        68   \n",
      "516      516  guerrero negro  27.9769 -114.0611     23.17        68   \n",
      "\n",
      "     Cloudiness  Wind Speed Country        Date  \n",
      "45            0        3.60      US  1666108257  \n",
      "51            0        2.57      US  1666108260  \n",
      "63            0        2.68      IN  1666108268  \n",
      "81            0        2.57      US  1666108282  \n",
      "152           0        3.09      US  1666108246  \n",
      "197           0        3.69      IL  1666108356  \n",
      "211           0        2.06      US  1666108364  \n",
      "240           0        0.35      IN  1666108378  \n",
      "265           0        1.37      MX  1666108394  \n",
      "340           0        0.74      MX  1666108436  \n",
      "363           0        1.29      IN  1666108449  \n",
      "375           0        3.09      AU  1666108455  \n",
      "381           0        2.95      AU  1666108458  \n",
      "391           0        4.12      FR  1666108465  \n",
      "409           0        3.60      IT  1666108477  \n",
      "421           0        0.80      BA  1666108483  \n",
      "516           0        0.89      MX  1666108537  \n"
     ]
    }
   ],
   "source": [
    "# Narrow down cities that fit criteria and drop any results with null values\n",
    "ideal_conditions_df = city_data_df[\n",
    "    (city_data_df['Max Temp'] > 21) &\n",
    "    (city_data_df['Max Temp'] < 27) &\n",
    "    (city_data_df['Wind Speed'] < 4.5) &\n",
    "    (city_data_df['Cloudiness'] == 0)\n",
    "]\n",
    "\n",
    "# Drop any rows with null values\n",
    "# YOUR CODE HERE\n",
    "\n",
    "# Display sample data\n",
    "print(ideal_conditions_df)"
   ]
  },
  {
   "cell_type": "markdown",
   "metadata": {},
   "source": [
    "### Step 3: Create a new DataFrame called `hotel_df`."
   ]
  },
  {
   "cell_type": "code",
   "execution_count": 10,
   "metadata": {},
   "outputs": [
    {
     "data": {
      "text/plain": [
       "{'City': ['City_ID'],\n",
       " 'Country': ['country'],\n",
       " 'Lat': ['city_lat'],\n",
       " 'Lng': ['city_lng'],\n",
       " 'Humidity': ['city_humidity']}"
      ]
     },
     "execution_count": 10,
     "metadata": {},
     "output_type": "execute_result"
    }
   ],
   "source": [
    "# Use the Pandas copy function to create DataFrame called hotel_df to store the city, country, coordinates, and humidity\n",
    "hotel_df = {'City': ['City_ID'], \n",
    "            'Country': ['country'],\n",
    "            \"Lat\": ['city_lat'], \n",
    "            \"Lng\": ['city_lng'],\n",
    "            \"Humidity\": ['city_humidity']\n",
    "            }\n",
    "\n",
    "# Add an empty column, \"Hotel Name,\" to the DataFrame so you can store the hotel found using the Geoapify API\n",
    "\n",
    "\n",
    "# Display sample data\n",
    "hotel_df"
   ]
  },
  {
   "cell_type": "markdown",
   "metadata": {},
   "source": [
    "### Step 4: For each city, use the Geoapify API to find the first hotel located within 10,000 metres of your coordinates."
   ]
  },
  {
   "cell_type": "code",
   "execution_count": 12,
   "metadata": {},
   "outputs": [
    {
     "ename": "SyntaxError",
     "evalue": "invalid syntax. Perhaps you forgot a comma? (846114122.py, line 8)",
     "output_type": "error",
     "traceback": [
      "\u001b[0;36m  Cell \u001b[0;32mIn[12], line 8\u001b[0;36m\u001b[0m\n\u001b[0;31m    'limit': 1\u001b[0m\n\u001b[0m             ^\u001b[0m\n\u001b[0;31mSyntaxError\u001b[0m\u001b[0;31m:\u001b[0m invalid syntax. Perhaps you forgot a comma?\n"
     ]
    }
   ],
   "source": [
    "# Set parameters to search for a hotel\n",
    "#radius = # YOUR CODE HERE\n",
    "params = {\n",
    "    'lat': latitude,\n",
    "    'lon': longitude,\n",
    "    'categories': hotel,\n",
    "    'radius': 10000,\n",
    "    'limit': 1\n",
    "    'apiKey': 'Your_api_key'\n",
    "}\n",
    "\n",
    "# Print a message to follow up the hotel search\n",
    "print(\"Starting hotel search\")\n",
    "\n",
    "# Iterate through the hotel_df DataFrame\n",
    "for index, row in hotel_df.iterrows():\n",
    "    # get latitude, longitude from the DataFrame\n",
    "    latitude_values = hotel_df['latitude']\n",
    "    longitude_values = hotel_df['longitude']\n",
    "\n",
    "    print(\"Latitude Values:\", latitude_values)\n",
    "    print(\"Longitude Values:\", longitude_values)\n",
    "    \n",
    "    # Add filter and bias parameters with the current city's latitude and longitude to the params dictionary\n",
    "    params[\"filter\"] = # YOUR CODE HERE\n",
    "    params[\"bias\"] = # YOUR CODE HERE\n",
    "    \n",
    "    # Set base URL\n",
    "    base_url = \"https://api.geoapify.com/v2/places\"\n",
    "\n",
    "\n",
    "    # Make and API request using the params dictionaty\n",
    "    name_address = # YOUR CODE HERE\n",
    "    \n",
    "    # Convert the API response to JSON format\n",
    "    name_address = # YOUR CODE HERE\n",
    "    \n",
    "    # Grab the first hotel from the results and store the name in the hotel_df DataFrame\n",
    "    try:\n",
    "        hotel_df.loc[index, \"Hotel Name\"] = name_address[\"features\"][0][\"properties\"][\"name\"]\n",
    "    except (KeyError, IndexError):\n",
    "        # If no hotel is found, set the hotel name as \"No hotel found\".\n",
    "        hotel_df.loc[index, \"Hotel Name\"] = \"No hotel found\"\n",
    "        \n",
    "    # Log the search results\n",
    "    print(f\"{hotel_df.loc[index, 'City']} - nearest hotel: {hotel_df.loc[index, 'Hotel Name']}\")\n",
    "\n",
    "# Display sample data\n",
    "hotel_df"
   ]
  },
  {
   "cell_type": "markdown",
   "metadata": {},
   "source": [
    "### Step 5: Add the hotel name and the country as additional information in the hover message for each city in the map."
   ]
  },
  {
   "cell_type": "code",
   "execution_count": null,
   "metadata": {},
   "outputs": [
    {
     "ename": "NameError",
     "evalue": "name 'gv' is not defined",
     "output_type": "error",
     "traceback": [
      "\u001b[0;31m---------------------------------------------------------------------------\u001b[0m",
      "\u001b[0;31mNameError\u001b[0m                                 Traceback (most recent call last)",
      "Cell \u001b[0;32mIn[19], line 1\u001b[0m\n\u001b[0;32m----> 1\u001b[0m gv\u001b[39m.\u001b[39mextension(\u001b[39m'\u001b[39m\u001b[39mbokeh\u001b[39m\u001b[39m'\u001b[39m)  \u001b[39m# Choose the appropriate backend (e.g., 'bokeh', 'matplotlib')\u001b[39;00m\n\u001b[1;32m      3\u001b[0m \u001b[39m# Define options for the GeoViews element\u001b[39;00m\n\u001b[1;32m      4\u001b[0m opts\u001b[39m.\u001b[39mdefaults(\n\u001b[1;32m      5\u001b[0m     opts\u001b[39m.\u001b[39mPoints(size\u001b[39m=\u001b[39mdim(\u001b[39m'\u001b[39m\u001b[39mHumidity\u001b[39m\u001b[39m'\u001b[39m)\u001b[39m*\u001b[39m\u001b[39m0.1\u001b[39m, color\u001b[39m=\u001b[39m\u001b[39m'\u001b[39m\u001b[39mblue\u001b[39m\u001b[39m'\u001b[39m, alpha\u001b[39m=\u001b[39m\u001b[39m0.7\u001b[39m),\n\u001b[1;32m      6\u001b[0m     opts\u001b[39m.\u001b[39mHover(tooltips\u001b[39m=\u001b[39m[(\u001b[39m'\u001b[39m\u001b[39mCity\u001b[39m\u001b[39m'\u001b[39m, \u001b[39m'\u001b[39m\u001b[39m@City\u001b[39m\u001b[39m'\u001b[39m), (\u001b[39m'\u001b[39m\u001b[39mCountry\u001b[39m\u001b[39m'\u001b[39m, \u001b[39m'\u001b[39m\u001b[39m@Country\u001b[39m\u001b[39m'\u001b[39m), (\u001b[39m'\u001b[39m\u001b[39mHumidity\u001b[39m\u001b[39m'\u001b[39m, \u001b[39m'\u001b[39m\u001b[39m@Humidity\u001b[39m\u001b[39m'\u001b[39m)])\n\u001b[1;32m      7\u001b[0m )\n",
      "\u001b[0;31mNameError\u001b[0m: name 'gv' is not defined"
     ]
    }
   ],
   "source": [
    "%%capture --no-display\n",
    "gv.extension('bokeh')  # Choose the appropriate backend (e.g., 'bokeh', 'matplotlib')\n",
    "\n",
    "# Define options for the GeoViews element\n",
    "opts.defaults(\n",
    "    opts.Points(size=dim('Humidity')*0.1, color='blue', alpha=0.7),\n",
    "    opts.Hover(tooltips=[('City', '@City'), ('Country', '@Country'), ('Humidity', '@Humidity')])\n",
    ")\n",
    "\n",
    "# Assuming you have already loaded your city data DataFrame\n",
    "\n",
    "# Create a GeoDataFrame from the city data DataFrame\n",
    "geometry = [Point(xy) for xy in zip(city_data_df['Longitude'], city_data_df['Latitude'])]\n",
    "city_gdf = gpd.GeoDataFrame(city_data_df, geometry=geometry)\n",
    "\n",
    "# Create a GeoViews Points object for the humidity map\n",
    "humidity_points = gv.Points(city_gdf, vdims=['Humidity'])\n",
    "\n",
    "# Display the GeoViews map\n",
    "humidity_points\n",
    "\n",
    "# Configure the map plot\n",
    "hotel_points = gv.Points(hotel_gdf, vdims=['Hotel Name', 'Country', 'Humidity'])\n",
    "hotel_map = hotel_points.opts(\n",
    "    opts.Points(size=dim('Humidity')*0.1, color='green', alpha=0.7, tools=['hover']),\n",
    "    opts.Hover(tooltips=[('City', '@City, @Country'), ('Hotel', '@Hotel Name')])\n",
    ")\n",
    "hotel_map\n",
    "\n",
    "# Display the map\n",
    "print(hotel_map)"
   ]
  },
  {
   "cell_type": "code",
   "execution_count": null,
   "metadata": {},
   "outputs": [],
   "source": []
  }
 ],
 "metadata": {
  "kernelspec": {
   "display_name": "Python 3 (ipykernel)",
   "language": "python",
   "name": "python3"
  },
  "language_info": {
   "codemirror_mode": {
    "name": "ipython",
    "version": 3
   },
   "file_extension": ".py",
   "mimetype": "text/x-python",
   "name": "python",
   "nbconvert_exporter": "python",
   "pygments_lexer": "ipython3",
   "version": "3.10.9"
  },
  "latex_envs": {
   "LaTeX_envs_menu_present": true,
   "autoclose": false,
   "autocomplete": true,
   "bibliofile": "biblio.bib",
   "cite_by": "apalike",
   "current_citInitial": 1,
   "eqLabelWithNumbers": true,
   "eqNumInitial": 1,
   "hotkeys": {
    "equation": "Ctrl-E",
    "itemize": "Ctrl-I"
   },
   "labels_anchors": false,
   "latex_user_defs": false,
   "report_style_numbering": false,
   "user_envs_cfg": false
  }
 },
 "nbformat": 4,
 "nbformat_minor": 4
}
